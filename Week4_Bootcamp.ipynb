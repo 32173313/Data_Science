{
  "nbformat": 4,
  "nbformat_minor": 0,
  "metadata": {
    "colab": {
      "provenance": [],
      "authorship_tag": "ABX9TyNj6URUxl1FaT3CSUX6ob5Q",
      "include_colab_link": true
    },
    "kernelspec": {
      "name": "python3",
      "display_name": "Python 3"
    },
    "language_info": {
      "name": "python"
    }
  },
  "cells": [
    {
      "cell_type": "markdown",
      "metadata": {
        "id": "view-in-github",
        "colab_type": "text"
      },
      "source": [
        "<a href=\"https://colab.research.google.com/github/32173313/Data_Science/blob/main/Week4_Bootcamp.ipynb\" target=\"_parent\"><img src=\"https://colab.research.google.com/assets/colab-badge.svg\" alt=\"Open In Colab\"/></a>"
      ]
    },
    {
      "cell_type": "code",
      "execution_count": 1,
      "metadata": {
        "id": "5yC1EEPIAel_"
      },
      "outputs": [],
      "source": [
        "import pandas as pd"
      ]
    },
    {
      "cell_type": "code",
      "source": [
        "# 1050. Actors and Directors Who Worked Together in at Least 3 Movies\n",
        "def actors_and_directors(actor_director: pd.DataFrame) -> pd.DataFrame:\n",
        "    df = actor_director.groupby(['actor_id', 'director_id']).size().reset_index(name='count')\n",
        "\n",
        "    result = df[df['count'] >= 3][['actor_id', 'director_id']]\n",
        "\n",
        "    return result"
      ],
      "metadata": {
        "id": "izEqUzRmAn9s"
      },
      "execution_count": 2,
      "outputs": []
    },
    {
      "cell_type": "code",
      "source": [
        "# 1667. Fix Names in a Table\n",
        "def fix_names(users: pd.DataFrame) -> pd.DataFrame:\n",
        "    users['name'] = users['name'].str.capitalize()\n",
        "\n",
        "    users = users.sort_values('user_id')\n",
        "\n",
        "    return users"
      ],
      "metadata": {
        "id": "xCVfb-ACAxpg"
      },
      "execution_count": 3,
      "outputs": []
    },
    {
      "cell_type": "code",
      "source": [
        "# 175. Combine Two Tables\n",
        "def combine_two_tables(person: pd.DataFrame, address: pd.DataFrame) -> pd.DataFrame:\n",
        "    df = pd.merge(person, address, on='personId', how='left')\n",
        "\n",
        "    df = df[['firstName', 'lastName', 'city', 'state']]\n",
        "\n",
        "    return df"
      ],
      "metadata": {
        "id": "ioKQSq3KAzFn"
      },
      "execution_count": 4,
      "outputs": []
    },
    {
      "cell_type": "code",
      "source": [
        "# 176. Second Highest Salary\n",
        "def second_highest_salary(employee: pd.DataFrame) -> pd.DataFrame:\n",
        "    unique_salaries = employee['salary'].drop_duplicates().sort_values(ascending=False)\n",
        "\n",
        "    if len(unique_salaries) >= 2:\n",
        "        second_highest = unique_salaries.iloc[1]\n",
        "    else:\n",
        "        second_highest = None\n",
        "\n",
        "    return pd.DataFrame({'SecondHighestSalary': [second_highest]})"
      ],
      "metadata": {
        "id": "g6IGpTXIA1wa"
      },
      "execution_count": 5,
      "outputs": []
    },
    {
      "cell_type": "code",
      "source": [
        "# 1327. List the Products Ordered in a Period\n",
        "def list_products(products: pd.DataFrame, orders: pd.DataFrame) -> pd.DataFrame:\n",
        "    orders = orders[orders.order_date.between('2020-02-01', '2020-02-29')]\n",
        "    df = orders.groupby('product_id')['unit'].sum().reset_index()\n",
        "\n",
        "    return products.merge(df[df.unit >= 100]).iloc[:,[1,3]]"
      ],
      "metadata": {
        "id": "SbdGoTdoA47V"
      },
      "execution_count": 6,
      "outputs": []
    },
    {
      "cell_type": "code",
      "source": [
        "# 1378. Replace Employee ID with the Unique Identifier\n",
        "def replace_employee_id(employees: pd.DataFrame, employee_uni: pd.DataFrame) -> pd.DataFrame:\n",
        "    merged = pd.merge(employees, employee_uni, on='id', how='left')\n",
        "    result = merged[['unique_id', 'name']]\n",
        "    return result"
      ],
      "metadata": {
        "id": "3VYU1-JkCGd0"
      },
      "execution_count": 7,
      "outputs": []
    },
    {
      "cell_type": "code",
      "source": [
        "# 550. Game Play Analysis IV\n",
        "def gameplay_analysis(activity: pd.DataFrame) -> pd.DataFrame:\n",
        "    first_login = activity.groupby('player_id', as_index=False)['event_date'].min()\n",
        "    first_login.rename(columns={'event_date': 'first_login'}, inplace=True)\n",
        "\n",
        "    merged = pd.merge(activity, first_login, on='player_id')\n",
        "\n",
        "    merged['next_day'] = pd.to_datetime(merged['first_login']) + pd.Timedelta(days=1)\n",
        "    active_next_day = merged[merged['event_date'] == merged['next_day']]['player_id'].nunique()\n",
        "\n",
        "    total_players = activity['player_id'].nunique()\n",
        "\n",
        "    fraction = round(active_next_day / total_players, 2)\n",
        "\n",
        "    return pd.DataFrame({'fraction': [fraction]})"
      ],
      "metadata": {
        "id": "57ze0PxFCJM3"
      },
      "execution_count": 8,
      "outputs": []
    },
    {
      "cell_type": "code",
      "source": [
        "# 1075. Project Employees I\n",
        "def project_employees_i(project: pd.DataFrame, employee: pd.DataFrame) -> pd.DataFrame:\n",
        "    merged = pd.merge(project, employee, on='employee_id', how='inner')\n",
        "\n",
        "    result = merged.groupby('project_id', as_index=False)['experience_years'].mean()\n",
        "    result['experience_years'] = result['experience_years'].round(2)\n",
        "    result.rename(columns={'experience_years': 'average_years'}, inplace=True)\n",
        "\n",
        "    return result"
      ],
      "metadata": {
        "id": "sikvT904CKNu"
      },
      "execution_count": 9,
      "outputs": []
    },
    {
      "cell_type": "code",
      "source": [
        "# 185. Department Top Three Salaries\n",
        "def top_three_salaries(employee: pd.DataFrame, department: pd.DataFrame) -> pd.DataFrame:\n",
        "    merged = pd.merge(employee, department, left_on='departmentId', right_on='id', how='inner')\n",
        "\n",
        "    merged['rank'] = merged.groupby('name_y')['salary'].rank(method='dense', ascending=False)\n",
        "\n",
        "    top3 = merged[merged['rank'] <= 3]\n",
        "\n",
        "    result = top3[['name_y', 'name_x', 'salary']].rename(\n",
        "        columns={'name_y': 'Department', 'name_x': 'Employee', 'salary': 'Salary'}\n",
        "    )\n",
        "\n",
        "    return result"
      ],
      "metadata": {
        "id": "4Kroq6VlCMmV"
      },
      "execution_count": 10,
      "outputs": []
    }
  ]
}