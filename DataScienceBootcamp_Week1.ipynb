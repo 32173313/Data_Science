{
  "cells": [
    {
      "cell_type": "markdown",
      "metadata": {
        "id": "view-in-github",
        "colab_type": "text"
      },
      "source": [
        "<a href=\"https://colab.research.google.com/github/32173313/Data_Science/blob/main/DataScienceBootcamp_Week1.ipynb\" target=\"_parent\"><img src=\"https://colab.research.google.com/assets/colab-badge.svg\" alt=\"Open In Colab\"/></a>"
      ]
    },
    {
      "cell_type": "markdown",
      "metadata": {
        "id": "h9Wu7GYhNXUv"
      },
      "source": [
        "# 📊 **Data Science Bootcamp, Fall '25**\n",
        "<div style=\"text-align:center; margin-bottom:10px;\">\n",
        "  <img src=\"https://github.com/32173313/Data_Science/blob/main/nyu-logo.png?raw=1\" alt=\"NYU Logo\" style=\"height:80px;\">\n",
        "</div>\n",
        "\n",
        "---\n",
        "\n",
        "## Lecture 1: *Introduction to Python*\n",
        "\n",
        "<br>\n",
        "\n",
        "📅 **September 29, 2025**\n",
        "\n",
        "---\n",
        "\n",
        "<div style=\"display: flex; align-items: flex-start; gap: 30px; background: linear-gradient(135deg, #f5f7fa 0%, #c3cfe2 100%); padding: 30px; border-radius: 15px; box-shadow: 0 8px 25px rgba(0,0,0,0.1);\">\n",
        "\n",
        "<div style=\"flex: 1;\">\n",
        "\n",
        "### 👨‍🏫 **About the Instructor**\n",
        "\n",
        "**<span style=\"color: #2c3e50; font-size: 1.3em;\">Shaahid Ahmed Nadeem</span>**\n",
        "\n",
        "<ul style=\"line-height: 1.8; color: #34495e; font-size: 1.05em;\">\n",
        "<li>🎯 <strong>Data Scientist & Educator</strong></li>\n",
        "<li>🧠 <strong>Specializes in Deep Learning & Applied ML</strong></li>\n",
        "<li>💼 <strong>Industry projects in AI & Data Analytics</strong></li>\n",
        "<li>❤️ <strong>Passionate about teaching & mentoring</strong></li>\n",
        "</ul>"
      ]
    },
    {
      "cell_type": "markdown",
      "metadata": {
        "id": "ax77lXIPNXUw"
      },
      "source": [
        "</div>\n",
        "\n",
        "<div style=\"flex: 0 0 250px; text-align: center;\">\n",
        "\n",
        "</div>\n",
        "\n",
        "</div>\n",
        "\n",
        "<br>\n",
        "\n",
        "<div style=\"text-align: center; margin-top: 20px; padding: 15px; background: #2c3e50; color: white; border-radius: 10px;\">\n",
        "<strong>Let's begin our Data Science journey! 🚀</strong>\n",
        "</div>\n",
        "\n",
        "---\n",
        "\n",
        "### 🎯 **What We'll Cover Today**\n",
        "- Python basics and syntax\n",
        "- Data structures in Python\n",
        "- Essential libraries for Data Science\n",
        "- Hands-on coding exercises"
      ]
    },
    {
      "cell_type": "markdown",
      "metadata": {
        "id": "woHTNic8NXUx"
      },
      "source": [
        "---\n",
        "\n",
        "<div style=\"display:flex; justify-content:space-between; gap:20px; margin:20px 0;\">\n",
        "\n",
        "<!-- Data Analyst -->\n",
        "<div style=\"flex:1; background: linear-gradient(135deg, #667eea 0%, #764ba2 100%); padding:20px; border-radius:12px; color:white; display:flex; flex-direction:column; justify-content:space-between; text-align:center; min-height:280px;\">\n",
        "    <div>\n",
        "        <div style=\"font-size:2.5em; margin-bottom:10px;\">📈</div>\n",
        "        <h3 style=\"margin:0 0 15px 0;\">Data Analyst</h3>\n",
        "        <ul style=\"margin:0 0 15px 0; font-size:0.9em; line-height:1.5; text-align:left; padding-left:20px;\">\n",
        "            <li>Collects and organizes data</li>\n",
        "            <li>Analyzes data to identify patterns</li>\n",
        "            <li>Supports data-driven decisions</li>\n",
        "            <li>Creates reports and dashboards</li>\n",
        "        </ul>\n",
        "    </div>\n",
        "    <div style=\"font-size:0.8em; background:rgba(255,255,255,0.2); padding:10px; border-radius:8px;\">\n",
        "        <strong>Skills:</strong><br>Python, SQL, Data Visualization\n",
        "    </div>\n",
        "</div>\n",
        "\n",
        "<!-- Data Engineer -->\n",
        "<div style=\"flex:1; background: linear-gradient(135deg, #f093fb 0%, #f5576c 100%); padding:20px; border-radius:12px; color:white; display:flex; flex-direction:column; justify-content:space-between; text-align:center; min-height:280px;\">\n",
        "    <div>\n",
        "        <div style=\"font-size:2.5em; margin-bottom:10px;\">⚙️</div>\n",
        "        <h3 style=\"margin:0 0 15px 0;\">Data Engineer</h3>\n",
        "        <ul style=\"margin:0 0 15px 0; font-size:0.9em; line-height:1.5; text-align:left; padding-left:20px;\">\n",
        "            <li>Designs data infrastructure</li>\n",
        "            <li>Builds data collection tools</li>\n",
        "            <li>Implements data storage solutions</li>\n",
        "            <li>Creates data processing pipelines</li>\n",
        "        </ul>\n",
        "    </div>\n",
        "    <div style=\"font-size:0.8em; background:rgba(255,255,255,0.2); padding:10px; border-radius:8px;\">\n",
        "        <strong>Skills:</strong><br>Python, ETL, Big Data, SQL\n",
        "    </div>\n",
        "</div>\n",
        "\n",
        "<!-- Data Scientist -->\n",
        "<div style=\"flex:1; background: linear-gradient(135deg, #4facfe 0%, #00f2fe 100%); padding:20px; border-radius:12px; color:white; display:flex; flex-direction:column; justify-content:space-between; text-align:center; min-height:280px;\">\n",
        "    <div>\n",
        "        <div style=\"font-size:2.5em; margin-bottom:10px;\">🧠</div>\n",
        "        <h3 style=\"margin:0 0 15px 0;\">Data Scientist</h3>\n",
        "        <ul style=\"margin:0 0 15px 0; font-size:0.9em; line-height:1.5; text-align:left; padding-left:20px;\">\n",
        "            <li>Analyzes complex data sets</li>\n",
        "            <li>Applies statistical techniques</li>\n",
        "            <li>Develops machine learning models</li>\n",
        "            <li>Drives business decisions with insights</li>\n",
        "        </ul>\n",
        "    </div>\n",
        "    <div style=\"font-size:0.8em; background:rgba(255,255,255,0.2); padding:10px; border-radius:8px;\">\n",
        "        <strong>Skills:</strong><br>Python, ML, Data Visualization, SQL\n",
        "    </div>\n",
        "</div>\n",
        "\n",
        "</div>\n",
        "\n",
        "---\n",
        "\n",
        "<div style=\"text-align:center; margin-top:15px; padding:12px; background:#2c3e50; color:white; border-radius:8px; font-size:0.9em;\">\n",
        "    <strong>💡 Three roles, one mission: Transform data into value!</strong>\n",
        "</div>"
      ]
    },
    {
      "cell_type": "markdown",
      "metadata": {
        "id": "_4USCuQRNXUx"
      },
      "source": [
        "# 📅 **Bootcamp Timeline**\n",
        "Sylabbus: https://docs.google.com/document/d/1wcz-Hp-grFSYE2XDabBwrilBOa1Bfu1tdUZ1jruu6Eg/edit?tab=t.0#heading=h.n8jbdftoc1s6\n",
        "---\n",
        "![image.png](attachment:62a0493a-6ed4-4347-ba7c-6a013f47c6f2.png)\n",
        "\n",
        "---\n",
        "\n",
        "<div style=\"text-align: center; margin-top: 20px; padding: 15px; background: linear-gradient(135deg, #2c3e50 0%, #4ca1af 100%); color: white; border-radius: 10px;\">\n",
        "    <strong>🚀 9 Weeks of Intensive Learning Journey!</strong>\n",
        "</div>\n",
        "\n"
      ]
    },
    {
      "cell_type": "markdown",
      "metadata": {
        "id": "oMxkFiaJNXUx"
      },
      "source": [
        "# 📋 **Agenda**\n",
        "\n",
        "---\n",
        "\n",
        "<div style=\"display: grid; grid-template-columns: repeat(2, 1fr); gap: 20px; margin: 30px 0;\">\n",
        "\n",
        "<div style=\"background: linear-gradient(135deg, #667eea 0%, #764ba2 100%); padding: 25px; border-radius: 15px; color: white; text-align: center;\">\n",
        "    <div style=\"font-size: 3em; margin-bottom: 15px;\">🐍</div>\n",
        "    <h3 style=\"margin: 0; color: white;\">Why Python?</h3>\n",
        "</div>\n",
        "\n",
        "<div style=\"background: linear-gradient(135deg, #f093fb 0%, #f5576c 100%); padding: 25px; border-radius: 15px; color: white; text-align: center;\">\n",
        "    <div style=\"font-size: 3em; margin-bottom: 15px;\">🔤</div>\n",
        "    <h3 style=\"margin: 0; color: white;\">Datatypes</h3>\n",
        "</div>\n",
        "\n",
        "<div style=\"background: linear-gradient(135deg, #4facfe 0%, #00f2fe 100%); padding: 25px; border-radius: 15px; color: white; text-align: center;\">\n",
        "    <div style=\"font-size: 3em; margin-bottom: 15px;\">⚡</div>\n",
        "    <h3 style=\"margin: 0; color: white;\">Control Statements</h3>\n",
        "</div>"
      ]
    },
    {
      "cell_type": "markdown",
      "metadata": {
        "id": "E9Pj7xY1NXUx"
      },
      "source": [
        "<div style=\"background: linear-gradient(135deg, #43e97b 0%, #38f9d7 100%); padding: 25px; border-radius: 15px; color: white; text-align: center;\">\n",
        "    <div style=\"font-size: 3em; margin-bottom: 15px;\">🔄</div>\n",
        "    <h3 style=\"margin: 0; color: white;\">Loops</h3>\n",
        "</div>\n",
        "\n",
        "<div style=\"background: linear-gradient(135deg, #fa709a 0%, #fee140 100%); padding: 25px; border-radius: 15px; color: white; text-align: center;\">\n",
        "    <div style=\"font-size: 3em; margin-bottom: 15px;\">📦</div>\n",
        "    <h3 style=\"margin: 0; color: white;\">Functions</h3>\n",
        "</div>\n",
        "\n",
        "<div style=\"background: linear-gradient(135deg, #a8edea 0%, #fed6e3 100%); padding: 25px; border-radius: 15px; color: #2c3e50; text-align: center;\">\n",
        "    <div style=\"font-size: 3em; margin-bottom: 15px;\">🎯</div>\n",
        "    <h3 style=\"margin: 0; color: #2c3e50;\">Scope</h3>\n",
        "</div>\n",
        "\n",
        "</div>\n",
        "\n",
        "---\n",
        "\n",
        "<div style=\"text-align: center; margin-top: 20px; padding: 15px; background: linear-gradient(135deg, #2c3e50 0%, #4ca1af 100%); color: white; border-radius: 10px;\">\n",
        "    <strong>🚀 Let's master Python fundamentals!</strong>\n",
        "</div>"
      ]
    },
    {
      "cell_type": "markdown",
      "metadata": {
        "id": "qS51zB5ZNXUx"
      },
      "source": [
        "# 📋 **Logistics**\n",
        "\n",
        "---\n",
        "\n",
        "<div style=\"display: flex; flex-direction: column; gap: 30px; margin: 40px 0;\">\n",
        "\n",
        "<div style=\"display: flex; align-items: center; gap: 30px; background: linear-gradient(135deg, #667eea 0%, #764ba2 100%); padding: 25px; border-radius: 15px; color: white;\">\n",
        "    <div style=\"font-size: 4em;\">💬</div>\n",
        "    <div>\n",
        "        <h3 style=\"margin: 0 0 10px 0; color: white;\">Join the SLACK Community</h3>\n",
        "        <p style=\"margin: 0; font-size: 1.1em; line-height: 1.5;\">\n",
        "            Perfect place to ask your questions, discuss interesting problems, and find project teammates.\n",
        "        </p>\n",
        "    </div>\n",
        "</div>\n",
        "\n",
        "<div style=\"display: flex; align-items: center; gap: 30px; background: linear-gradient(135deg, #f093fb 0%, #f5576c 100%); padding: 25px; border-radius: 15px; color: white;\">\n",
        "    <div style=\"font-size: 4em;\">💻</div>\n",
        "    <div>\n",
        "        <h3 style=\"margin: 0 0 10px 0; color: white;\">Visit the GitHub Page</h3>\n",
        "        <p style=\"margin: 0; font-size: 1.1em; line-height: 1.5;\">\n",
        "            Access PPTs and Colab notebooks discussed in each section.\n",
        "        </p>\n",
        "    </div>\n",
        "</div>"
      ]
    },
    {
      "cell_type": "markdown",
      "metadata": {
        "id": "jQtoVEyENXUx"
      },
      "source": [
        "<div style=\"display: flex; align-items: center; gap: 30px; background: linear-gradient(135deg, #4facfe 0%, #00f2fe 100%); padding: 25px; border-radius: 15px; color: white;\">\n",
        "    <div style=\"font-size: 4em;\">📧</div>\n",
        "    <div>\n",
        "        <h3 style=\"margin: 0 0 10px 0; color: white;\">Email Us</h3>\n",
        "        <p style=\"margin: 0; font-size: 1.1em; line-height: 1.5;\">\n",
        "            datasciencebootcamp@nyu.edu\n",
        "        </p>\n",
        "    </div>\n",
        "</div>\n",
        "\n",
        "</div>\n",
        "\n",
        "---\n",
        "\n",
        "<div style=\"text-align: center; margin-top: 30px; padding: 20px; background: linear-gradient(135deg, #2c3e50 0%, #4ca1af 100%); color: white; border-radius: 12px; font-size: 1.2em;\">\n",
        "    <strong>🌐 Stay connected and make the most of your bootcamp experience!</strong>\n",
        "</div>"
      ]
    },
    {
      "cell_type": "markdown",
      "metadata": {
        "id": "3trcVp8eNXUx"
      },
      "source": [
        "# 🐍 **Why Use Python?**\n",
        "\n",
        "---\n",
        "![image.png](attachment:73b560fc-70fb-48f0-b382-7a7aa892695c.png)\n",
        "\n",
        "---"
      ]
    },
    {
      "cell_type": "markdown",
      "metadata": {
        "id": "pTymdlTeNXUy"
      },
      "source": [
        "# ❓ **Q&A Session**\n",
        "\n",
        "---\n",
        "\n",
        "<div style=\"display: flex; justify-content: center; align-items: center; height: 400px; margin: 40px 0;\">\n",
        "\n",
        "<div style=\"text-align: center; background: linear-gradient(135deg, #667eea 0%, #764ba2 100%); padding: 60px 40px; border-radius: 20px; color: white; box-shadow: 0 20px 40px rgba(0,0,0,0.15);\">\n",
        "    <div style=\"font-size: 6em; margin-bottom: 30px;\">💬</div>\n",
        "    <h1 style=\"font-size: 3.5em; margin: 0; color: white;\">Question & Answer</h1>\n",
        "    <p style=\"font-size: 1.3em; margin: 20px 0 0 0; opacity: 0.9;\">Your questions are welcome!</p>\n",
        "</div>\n",
        "\n",
        "</div>\n",
        "\n",
        "---\n",
        "\n",
        "<div style=\"text-align: center; margin-top: 30px; padding: 20px; background: linear-gradient(135deg, #2c3e50 0%, #4ca1af 100%); color: white; border-radius: 12px; font-size: 1.2em;\">\n",
        "    <strong>🌐 Ask anything about today's session or Python fundamentals!</strong>\n",
        "</div>"
      ]
    },
    {
      "cell_type": "markdown",
      "metadata": {
        "id": "qt6kPAPOQ33V"
      },
      "source": [
        "## Primitive Datatypes\n",
        "\n",
        "---\n",
        "Python has the following primitive datatypes:\n",
        "\n",
        "<br>\n",
        "\n",
        "|Datatype|Description | Examples|\n",
        "|-----|---------------- |------------|\n",
        "| Int | Integer Numbers | 1,2,3...|\n",
        "|Float| Real Numbers    | 3.14    |\n",
        "|String| Text Contents | \"Hello World\"|\n",
        "|Bool | Boolean Values| True, False|\n",
        "|NoneType| Special Type | None|\n",
        "\n",
        "<br>\n",
        "\n",
        "Their syntax is given in the next cell\n",
        "\n",
        "\n",
        "\n"
      ]
    },
    {
      "cell_type": "code",
      "execution_count": 1,
      "metadata": {
        "id": "YkTbMSOlQJOX",
        "outputId": "6b667a46-9eb1-4195-90df-4b81d3d2f9e7",
        "colab": {
          "base_uri": "https://localhost:8080/"
        }
      },
      "outputs": [
        {
          "output_type": "stream",
          "name": "stdout",
          "text": [
            "a is -  <class 'int'>\n",
            "b is -  <class 'float'>\n",
            "c is -  <class 'str'>\n",
            "d is -  <class 'bool'>\n",
            "e is -  <class 'NoneType'>\n"
          ]
        }
      ],
      "source": [
        "a = 11\n",
        "b = 3.14\n",
        "c = '11'\n",
        "d = False\n",
        "e = None\n",
        "\n",
        "print(\"a is - \",type(a) )\n",
        "print(\"b is - \",type(b) )\n",
        "print(\"c is - \",type(c) )\n",
        "print(\"d is - \",type(d) )\n",
        "print(\"e is - \",type(e) )"
      ]
    },
    {
      "cell_type": "markdown",
      "metadata": {
        "id": "l7eSyj2tMRqe"
      },
      "source": [
        "By the way: note that you did not have to declare the variable **'a'** or specify its type before you assigned a value to it. In Python, you can create a variable just by assigning something to it."
      ]
    },
    {
      "cell_type": "markdown",
      "metadata": {
        "id": "UATRHJQZUUA6"
      },
      "source": [
        "## Expressions and Operators\n",
        "\n",
        "---\n",
        "<br>\n",
        "\n",
        "Expressions combine different **objects** and **operators**. An expression has a value and value has a type\n",
        "\n",
        "<br>\n",
        "\n",
        "| Arithmetic | Comparison| Boolean |\n",
        "|------------|-----------|---------|\n",
        "|= Assignment|== Equality| not Negation|\n",
        "|+ Sum| != Inequality| and Conjunction|\n",
        "|- Difference| > More than| or Disjunction|\n",
        "|* Product| >= More or equal | |\n",
        "|/ Division| < Less than | |\n",
        "|// Quotient| <= Less or equal||\n",
        "|% Remainder|\n",
        "|** Power ||"
      ]
    },
    {
      "cell_type": "code",
      "execution_count": 2,
      "metadata": {
        "id": "ZwdpBVgVT8Kg",
        "outputId": "fed3a1fb-09f0-46c8-b810-58c8936133ce",
        "colab": {
          "base_uri": "https://localhost:8080/"
        }
      },
      "outputs": [
        {
          "output_type": "stream",
          "name": "stdout",
          "text": [
            "False\n",
            "b after addition =  111 \n",
            "\n",
            "Remainder of b divided by 10 is  1 \n",
            "\n",
            "Quotient of b divided by 10 is  11 \n",
            "\n",
            "C : rem ^5 = 1 \n",
            "\n"
          ]
        }
      ],
      "source": [
        "print(a == 10)\n",
        "b = a+100\n",
        "print(\"b after addition = \", b,'\\n')\n",
        "\n",
        "rem = b%10\n",
        "quotient = b//10\n",
        "print(\"Remainder of b divided by 10 is \", rem,'\\n')\n",
        "print(\"Quotient of b divided by 10 is \", quotient,'\\n')\n",
        "\n",
        "\n",
        "c = rem**5\n",
        "print(\"C : rem ^5 =\",c,'\\n')"
      ]
    },
    {
      "cell_type": "code",
      "execution_count": 3,
      "metadata": {
        "id": "8vX2FbCvZnpo",
        "outputId": "fe6f9ceb-1aa0-46c3-f72d-91725b59a381",
        "colab": {
          "base_uri": "https://localhost:8080/"
        }
      },
      "outputs": [
        {
          "output_type": "stream",
          "name": "stdout",
          "text": [
            "False\n",
            "False\n",
            "True\n"
          ]
        }
      ],
      "source": [
        "print(b==10)\n",
        "print((b-100)==10)\n",
        "print(b!=10)"
      ]
    },
    {
      "cell_type": "markdown",
      "metadata": {
        "id": "gxRhT5IONXUz"
      },
      "source": [
        "And:\n",
        "\n",
        "True + true = True\n",
        "True + False = False\n",
        "False+ True = False\n",
        "False + False = False\n",
        "\n",
        "Or:\n",
        "\n",
        "True + true = True\n",
        "True + False = True\n",
        "False+ True = True\n",
        "False + False = False\n",
        "\n"
      ]
    },
    {
      "cell_type": "code",
      "execution_count": 4,
      "metadata": {
        "id": "Qhk0VR3waW8Y",
        "outputId": "fdf604cf-195b-4f6d-a4e8-693f38df66b4",
        "colab": {
          "base_uri": "https://localhost:8080/"
        }
      },
      "outputs": [
        {
          "output_type": "stream",
          "name": "stdout",
          "text": [
            "False\n",
            "False\n",
            "True\n"
          ]
        }
      ],
      "source": [
        "print(b==110 and c==10)\n",
        "print(b==110 or  c==10)\n",
        "print(not c==10)\n"
      ]
    },
    {
      "cell_type": "markdown",
      "metadata": {
        "id": "nAd1qMMChbhZ"
      },
      "source": [
        "## Compound Data Types/ Containers\n",
        "*Used to store data that is made up of multiple values*\n",
        "\n",
        "1. Lists - Ordered Sequence - Mutable - Mixed element types\n",
        "2. Tuples - Ordered Sequence - Immutable - Mixed element types\n",
        "3. Dictionaries - key-values pairs, - keys have to be unique but values can be duplicate and of any format. Does not have continuous memory allocation. Elements are accessed using keys."
      ]
    },
    {
      "cell_type": "markdown",
      "metadata": {
        "id": "pyLZjJoay464"
      },
      "source": [
        "### Lists:"
      ]
    },
    {
      "cell_type": "markdown",
      "metadata": {
        "id": "5Gi_d1q7NXUz"
      },
      "source": [
        "a = []"
      ]
    },
    {
      "cell_type": "code",
      "execution_count": 5,
      "metadata": {
        "colab": {
          "base_uri": "https://localhost:8080/"
        },
        "id": "mV7E53B2ohdZ",
        "outputId": "fa084495-bc53-4d7a-8133-f8efae1b919a"
      },
      "outputs": [
        {
          "output_type": "stream",
          "name": "stdout",
          "text": [
            "['DataScienceBootcamp', 2025]\n",
            "['DataScienceBootcamp', 2025, 'Section1']\n",
            "Section1\n"
          ]
        }
      ],
      "source": [
        "#Lists\n",
        "l = [\"DataScienceBootcamp\",2025] #list declaration and initiation\n",
        "print(l)\n",
        "l.append(\"Section1\") #adding element to end of the list -> like a push operation ---> [\"DataScienceBootcamp\",2025, \"Section1\"]\n",
        "print(l)\n",
        "\n",
        "l_1= l[2]\n",
        "print(l_1)\n"
      ]
    },
    {
      "cell_type": "markdown",
      "metadata": {
        "id": "wH9JrMQ_0Qum"
      },
      "source": [
        "#### Slicing\n",
        "In addition to accessing list elements one at a time, Python provides concise syntax to access sublists; this is known as **slicing**.\n",
        "\n",
        "**Lst[ Initial : End : IndexJump ]**"
      ]
    },
    {
      "cell_type": "code",
      "execution_count": 6,
      "metadata": {
        "id": "IPLPu2KwNXU0",
        "outputId": "29f59a32-efa8-4fad-af6c-fcb28437db9b",
        "colab": {
          "base_uri": "https://localhost:8080/"
        }
      },
      "outputs": [
        {
          "output_type": "execute_result",
          "data": {
            "text/plain": [
              "[0, 1, 2, 3, 4, 5, 6, 7, 8, 9]"
            ]
          },
          "metadata": {},
          "execution_count": 6
        }
      ],
      "source": [
        "list(range(10))\n",
        "# range(0, 10)  ----> [0,1,2,3,4,5,6,7,9]"
      ]
    },
    {
      "cell_type": "code",
      "execution_count": 7,
      "metadata": {
        "id": "8pnPfcNONXU0",
        "outputId": "73d625f0-51e7-4dfd-c38c-ca725b168c93",
        "colab": {
          "base_uri": "https://localhost:8080/"
        }
      },
      "outputs": [
        {
          "output_type": "stream",
          "name": "stdout",
          "text": [
            "6\n"
          ]
        }
      ],
      "source": [
        "a = [2,3,4,5,6]\n",
        "print(a[-1])"
      ]
    },
    {
      "cell_type": "code",
      "execution_count": 8,
      "metadata": {
        "colab": {
          "base_uri": "https://localhost:8080/"
        },
        "id": "QvxIes3F0aCo",
        "outputId": "e7c4c88a-104e-4bb7-f33f-faaa12aa209b"
      },
      "outputs": [
        {
          "output_type": "stream",
          "name": "stdout",
          "text": [
            "[0, 1, 2, 3, 4]\n",
            "[2, 3]\n",
            "[2, 3, 4]\n",
            "[0, 1]\n",
            "[0, 1, 2, 3, 4]\n",
            "[0, 1, 2, 3]\n",
            "[4, 3, 2, 1, 0]\n",
            "[0, 1, 8, 9, 4]\n"
          ]
        }
      ],
      "source": [
        "nums = list(range(5))    # range is a built-in function that creates a list of integers\n",
        "print(nums)         # Prints \"[0, 1, 2, 3, 4]\"\n",
        "print(nums[2:4])    # Get a slice from index 2 to 4 (exclusive)\n",
        "print(nums[2:])     # Get a slice from index 2 to the end\n",
        "print(nums[:2])     # Get a slice from the start to index 2 (exclusive)\n",
        "print(nums[:])      # Get a slice of the whole list\n",
        "print(nums[:-1])    # Slice indices can be negative   -> nums[:4]\n",
        "print(nums[::-1])   # reverses the list\n",
        "nums[2:4] = [8,9] # Assign a new sublist to a slice\n",
        "print(nums)"
      ]
    },
    {
      "cell_type": "markdown",
      "metadata": {
        "id": "0RUIbWlJy1YK"
      },
      "source": [
        "As usual, you can find all the gory details about lists in the [documentation](https://docs.python.org/3.7/tutorial/datastructures.html#more-on-lists).\n",
        "\n",
        "\n"
      ]
    },
    {
      "cell_type": "markdown",
      "metadata": {
        "id": "bHnmURcg4nET"
      },
      "source": [
        "### Tuples:"
      ]
    },
    {
      "cell_type": "code",
      "execution_count": 9,
      "metadata": {
        "id": "_ua8SRP_NXU0",
        "outputId": "c461bcf2-357e-44e9-b955-92b65b01fbd7",
        "colab": {
          "base_uri": "https://localhost:8080/"
        }
      },
      "outputs": [
        {
          "output_type": "stream",
          "name": "stdout",
          "text": [
            "['NYU', 'Rohan', 'DataScience', 'bootcamp', 2025, None]\n",
            "('NYU', 'Rohan', 'DataScience', 'bootcamp', 2025, None)\n"
          ]
        }
      ],
      "source": [
        "t = ()\n",
        "t=(\"NYU\",\"DataScience\",\"bootcamp\",2025,None)\n",
        "t = list(t)\n",
        "t.insert(1,\"Rohan\")\n",
        "print(t)\n",
        "t = tuple(t)\n",
        "print(t)\n",
        "\n",
        "##############\n",
        "# 1. Convert immutable to mutable\n",
        "# 2. add/remove element\n",
        "# 3. convert back it immutable\n",
        "##############\n"
      ]
    },
    {
      "cell_type": "code",
      "execution_count": 10,
      "metadata": {
        "id": "Yf6mJqw3iBCZ",
        "outputId": "786eddb3-afae-465b-b381-903df78f5244",
        "colab": {
          "base_uri": "https://localhost:8080/",
          "height": 245
        }
      },
      "outputs": [
        {
          "output_type": "stream",
          "name": "stdout",
          "text": [
            "('NYU', 'DataScience', 'bootcamp', 2025, None)\n",
            "bootcamp\n",
            "('DataScience', 'bootcamp')\n"
          ]
        },
        {
          "output_type": "error",
          "ename": "TypeError",
          "evalue": "'tuple' object does not support item assignment",
          "traceback": [
            "\u001b[0;31m---------------------------------------------------------------------------\u001b[0m",
            "\u001b[0;31mTypeError\u001b[0m                                 Traceback (most recent call last)",
            "\u001b[0;32m/tmp/ipython-input-1919376391.py\u001b[0m in \u001b[0;36m<cell line: 0>\u001b[0;34m()\u001b[0m\n\u001b[1;32m      5\u001b[0m \u001b[0mprint\u001b[0m\u001b[0;34m(\u001b[0m\u001b[0mt\u001b[0m\u001b[0;34m[\u001b[0m\u001b[0;36m2\u001b[0m\u001b[0;34m]\u001b[0m\u001b[0;34m)\u001b[0m\u001b[0;34m\u001b[0m\u001b[0;34m\u001b[0m\u001b[0m\n\u001b[1;32m      6\u001b[0m \u001b[0mprint\u001b[0m\u001b[0;34m(\u001b[0m\u001b[0mt\u001b[0m\u001b[0;34m[\u001b[0m\u001b[0;36m1\u001b[0m\u001b[0;34m:\u001b[0m\u001b[0;36m3\u001b[0m\u001b[0;34m]\u001b[0m\u001b[0;34m)\u001b[0m\u001b[0;34m\u001b[0m\u001b[0;34m\u001b[0m\u001b[0m\n\u001b[0;32m----> 7\u001b[0;31m \u001b[0mt\u001b[0m\u001b[0;34m[\u001b[0m\u001b[0;36m2\u001b[0m\u001b[0;34m]\u001b[0m\u001b[0;34m=\u001b[0m\u001b[0;36m5\u001b[0m\u001b[0;34m\u001b[0m\u001b[0;34m\u001b[0m\u001b[0m\n\u001b[0m\u001b[1;32m      8\u001b[0m \u001b[0mprint\u001b[0m\u001b[0;34m(\u001b[0m\u001b[0mt\u001b[0m\u001b[0;34m[\u001b[0m\u001b[0;36m2\u001b[0m\u001b[0;34m]\u001b[0m\u001b[0;34m)\u001b[0m\u001b[0;34m\u001b[0m\u001b[0;34m\u001b[0m\u001b[0m\n",
            "\u001b[0;31mTypeError\u001b[0m: 'tuple' object does not support item assignment"
          ]
        }
      ],
      "source": [
        "#Tuples\n",
        "t = ()\n",
        "t=(\"NYU\",\"DataScience\",\"bootcamp\",2025,None)\n",
        "print(t)\n",
        "print(t[2])\n",
        "print(t[1:3])\n",
        "t[2]=5\n",
        "print(t[2])"
      ]
    },
    {
      "cell_type": "markdown",
      "metadata": {
        "id": "qD3uAZXY7ty1"
      },
      "source": [
        "### Dictionary:\n",
        "**dictn={'key':value}**"
      ]
    },
    {
      "cell_type": "code",
      "execution_count": 11,
      "metadata": {
        "id": "oCn9-WYpNXU0"
      },
      "outputs": [],
      "source": [
        "l = []\n",
        "t = ()\n",
        "d = {}"
      ]
    },
    {
      "cell_type": "code",
      "execution_count": 12,
      "metadata": {
        "id": "itZgrU8279Yy",
        "outputId": "5b71cd2f-dd6e-45c8-ebcb-5fb34236d840",
        "colab": {
          "base_uri": "https://localhost:8080/"
        }
      },
      "outputs": [
        {
          "output_type": "stream",
          "name": "stdout",
          "text": [
            "Mango\n",
            "Beans\n",
            "dict_items([('Fruit', 'Mango'), ('Vegetable', 'Beans')])\n"
          ]
        }
      ],
      "source": [
        "dictn={'Fruit':'Mango','Vegetable':'Beans'}\n",
        "print(dictn['Fruit'])\n",
        "print(dictn['Vegetable'])\n",
        "\n",
        "print(dictn.items())"
      ]
    },
    {
      "cell_type": "code",
      "execution_count": 13,
      "metadata": {
        "id": "ShshsF7b-WOw",
        "outputId": "c108676c-0b19-48e1-fe54-4fd9ab082151",
        "colab": {
          "base_uri": "https://localhost:8080/"
        }
      },
      "outputs": [
        {
          "output_type": "stream",
          "name": "stdout",
          "text": [
            "cute\n",
            "True\n"
          ]
        }
      ],
      "source": [
        "dt = {'cat': 'cute', 'dog': 'furry'}  # Create a new dictionary with some data\n",
        "print(dt['cat'])       # Get an entry from a dictionary\n",
        "print('cat' in dt)     # Check if a dictionary has a given key"
      ]
    },
    {
      "cell_type": "code",
      "execution_count": 14,
      "metadata": {
        "id": "ufQ9fPkcNXU1",
        "outputId": "5a1b9667-383e-48a3-f738-5dcb7218a77c",
        "colab": {
          "base_uri": "https://localhost:8080/"
        }
      },
      "outputs": [
        {
          "output_type": "stream",
          "name": "stdout",
          "text": [
            "{1: 1.333, 2: 'Data', 3: 'Science'}\n"
          ]
        }
      ],
      "source": [
        "d={}\n",
        "d[1]=1.333\n",
        "d[2]=\"Data\"\n",
        "d[3]=\"Science\"\n",
        "print(d)"
      ]
    },
    {
      "cell_type": "code",
      "execution_count": 15,
      "metadata": {
        "id": "Z8Ql8cdqjzBi",
        "outputId": "8641157e-3822-417a-b756-ba69214fa8fc",
        "colab": {
          "base_uri": "https://localhost:8080/",
          "height": 228
        }
      },
      "outputs": [
        {
          "output_type": "stream",
          "name": "stdout",
          "text": [
            "{'key1': 'value1', 'rohan': 50, 'key3': None}\n",
            "value1\n",
            "None\n"
          ]
        },
        {
          "output_type": "error",
          "ename": "KeyError",
          "evalue": "'key2'",
          "traceback": [
            "\u001b[0;31m---------------------------------------------------------------------------\u001b[0m",
            "\u001b[0;31mKeyError\u001b[0m                                  Traceback (most recent call last)",
            "\u001b[0;32m/tmp/ipython-input-2469280830.py\u001b[0m in \u001b[0;36m<cell line: 0>\u001b[0;34m()\u001b[0m\n\u001b[1;32m      8\u001b[0m \u001b[0mprint\u001b[0m\u001b[0;34m(\u001b[0m\u001b[0md\u001b[0m\u001b[0;34m[\u001b[0m\u001b[0;34m'key1'\u001b[0m\u001b[0;34m]\u001b[0m\u001b[0;34m)\u001b[0m\u001b[0;34m\u001b[0m\u001b[0;34m\u001b[0m\u001b[0m\n\u001b[1;32m      9\u001b[0m \u001b[0mprint\u001b[0m\u001b[0;34m(\u001b[0m\u001b[0md\u001b[0m\u001b[0;34m.\u001b[0m\u001b[0mget\u001b[0m\u001b[0;34m(\u001b[0m\u001b[0;34m'key3'\u001b[0m\u001b[0;34m)\u001b[0m\u001b[0;34m)\u001b[0m\u001b[0;34m\u001b[0m\u001b[0;34m\u001b[0m\u001b[0m\n\u001b[0;32m---> 10\u001b[0;31m \u001b[0mprint\u001b[0m\u001b[0;34m(\u001b[0m\u001b[0md\u001b[0m\u001b[0;34m[\u001b[0m\u001b[0;34m'key2'\u001b[0m\u001b[0;34m]\u001b[0m\u001b[0;34m)\u001b[0m\u001b[0;34m\u001b[0m\u001b[0;34m\u001b[0m\u001b[0m\n\u001b[0m",
            "\u001b[0;31mKeyError\u001b[0m: 'key2'"
          ]
        }
      ],
      "source": [
        "#Dictionaries\n",
        "d={}\n",
        "d['key1']='value1'\n",
        "# print(d)\n",
        "d['rohan']=50\n",
        "d['key3']=None\n",
        "print(d)\n",
        "print(d['key1'])\n",
        "print(d.get('key3'))\n",
        "print(d['key2'])"
      ]
    },
    {
      "cell_type": "markdown",
      "metadata": {
        "id": "B37WGFjbAg3r"
      },
      "source": [
        "You can find all you need to know about dictionaries in the [documentation](https://docs.python.org/2/library/stdtypes.html#dict)."
      ]
    },
    {
      "cell_type": "markdown",
      "metadata": {
        "id": "Cqp8O_1yeDiU"
      },
      "source": [
        "## Control Flow : Branching, Iteration\n",
        "---\n",
        "\n",
        "Evaluate a block of code if a condition is True.\n",
        "\n",
        "In the following cells we will look at conditional satements(if-else) and loops(for and while)."
      ]
    },
    {
      "cell_type": "markdown",
      "metadata": {
        "id": "fXRrM1tk_DBX"
      },
      "source": [
        "### If-Else\n",
        "Conditional statements in Python allow you to make decisions in your code based on certain conditions. The if-else statement is one of the fundamental building blocks of conditional logic in Python.\n",
        "\n",
        "\n",
        "### Basic Syntax\n",
        "\n",
        "```python\n",
        "if condition:\n",
        "    # Code to execute if the condition is True        #notice indentation\n",
        "else:\n",
        "    # Code to execute if the condition is False\n",
        "```\n",
        "### Elif (Else If)\n",
        "To handle multiple conditions, you can use the elif (short for \"else if\") keyword:"
      ]
    },
    {
      "cell_type": "code",
      "execution_count": null,
      "metadata": {
        "id": "4FB7-w8Yl_j3",
        "outputId": "4b538685-fd51-4d9c-f43a-97a1f4e6d9c7"
      },
      "outputs": [
        {
          "name": "stdout",
          "output_type": "stream",
          "text": [
            "This is a medium circle\n"
          ]
        }
      ],
      "source": [
        "#if-else\n",
        "r=10\n",
        "area = 3.14*(r**2)\n",
        "\n",
        "\n",
        "if area>500:\n",
        "  print(\"This is a big circle\")\n",
        "elif area>100 and area<500:\n",
        "  print(\"This is a medium circle\")\n",
        "else:\n",
        "  print(\"This is a small circle\")"
      ]
    },
    {
      "cell_type": "markdown",
      "metadata": {
        "id": "wQNFAAu5S_ri"
      },
      "source": [
        "Note especially the use of colons (:) and whitespace to denote separate blocks of code.\n",
        "\n",
        "A block of code is a set of statements that should be treated as a unit. In C, for example, code blocks are denoted by curly braces:"
      ]
    },
    {
      "cell_type": "markdown",
      "metadata": {
        "id": "nxvd95E_UJGm"
      },
      "source": [
        "```\n",
        "// C code\n",
        "int main()\n",
        "{\n",
        "int i=10;\n",
        "if(i==10)\n",
        "{\n",
        "    print(\"i is 10\");\n",
        "}\n",
        "  return 0;\n",
        "}\n",
        "```\n",
        "In Python code blocks are denoted by Indentation\n",
        "```\n",
        "i = 10\n",
        "if i == 10:\n",
        "    print(\"i is 10\")\n",
        "```"
      ]
    },
    {
      "cell_type": "markdown",
      "metadata": {
        "id": "nUgHnt2a_DBa"
      },
      "source": [
        "### While Loop\n",
        "A `while` loop repeatedly executes code while a condition remains True or until a condition is met.\n",
        "* Use them when the number of iterations is unknown in advance\n",
        "\n",
        "```\n",
        "while condition:\n",
        "    # Code to execute while the condition is True\n",
        "```"
      ]
    },
    {
      "cell_type": "code",
      "execution_count": null,
      "metadata": {
        "id": "65widh7nmcJb",
        "outputId": "398ff595-aa96-4bf5-8f14-1bbc8d1cdb8e"
      },
      "outputs": [
        {
          "name": "stdout",
          "output_type": "stream",
          "text": [
            "Sum of first 100 numbers is  5050\n"
          ]
        }
      ],
      "source": [
        "#while loop:\n",
        "\n",
        "i=100\n",
        "sum=0\n",
        "while i>0:\n",
        "  sum=sum+i  #can be written as sum+=i as well\n",
        "  i=i-1\n",
        "print(\"Sum of first 100 numbers is \",sum)"
      ]
    },
    {
      "cell_type": "code",
      "execution_count": null,
      "metadata": {
        "id": "utPh8fLUnm7W",
        "outputId": "13bb3e41-388f-4bc8-b56c-6648de47931e"
      },
      "outputs": [
        {
          "name": "stdout",
          "output_type": "stream",
          "text": [
            "Sum of first 100 numbers is  5050\n"
          ]
        }
      ],
      "source": [
        "#Using Break Statement\n",
        "sum = 0\n",
        "i=100\n",
        "while True:\n",
        "  if i<0:\n",
        "    break\n",
        "\n",
        "  sum+=i\n",
        "  i-=1\n",
        "\n",
        "print(\"Sum of first 100 numbers is \",sum)"
      ]
    },
    {
      "cell_type": "markdown",
      "metadata": {
        "id": "IVgE9sba_DBe"
      },
      "source": [
        "### For Loop\n",
        "A `for` loop iterates over a sequence (e.g., lists, strings, ranges) and executes a block of code for each element.\n",
        "```\n",
        "for item in sequence:\n",
        "    # Code to execute for each item\n",
        "```"
      ]
    },
    {
      "cell_type": "code",
      "execution_count": null,
      "metadata": {
        "id": "_Hq3JmrQnLOY",
        "outputId": "7ad4cea2-3e7f-452f-a062-3fe951cc721a"
      },
      "outputs": [
        {
          "name": "stdout",
          "output_type": "stream",
          "text": [
            "Sum of first 100 numbers is  4950\n"
          ]
        }
      ],
      "source": [
        "#for loop:\n",
        "sum=0\n",
        "for i in range(100):\n",
        "  sum+=i\n",
        "print(\"Sum of first 100 numbers is \",sum)"
      ]
    },
    {
      "cell_type": "markdown",
      "metadata": {
        "id": "kg5mN4uciAaE"
      },
      "source": [
        "Notice the simplicity of the `for` loop: we specify the variable we want to use, the sequence we want to loop over, and use the “`in`” operator to link them together in an intuitive and readable way. More precisely, the object to the right of the “`in`” can be any Python *iterator*.\n"
      ]
    },
    {
      "cell_type": "markdown",
      "metadata": {
        "id": "qMrALIQ4BRp9"
      },
      "source": [
        "We can loop over any list, no matter what type of object is stored in it"
      ]
    },
    {
      "cell_type": "code",
      "execution_count": null,
      "metadata": {
        "id": "N4Jq0wwhNXU5",
        "outputId": "424dd6a1-cd3c-4213-adf1-b4912a26491e"
      },
      "outputs": [
        {
          "name": "stdout",
          "output_type": "stream",
          "text": [
            "cat\n",
            "dog\n",
            "monkey\n"
          ]
        }
      ],
      "source": [
        "animals = ['cat', 'dog', 'monkey']\n",
        "for i in range(len(animals)):\n",
        "    print(animals[i])"
      ]
    },
    {
      "cell_type": "code",
      "execution_count": null,
      "metadata": {
        "id": "44kfCvK1BVag",
        "outputId": "2b43955f-2175-4c87-f799-ca938e5c6dd2"
      },
      "outputs": [
        {
          "name": "stdout",
          "output_type": "stream",
          "text": [
            "cat\n",
            "dog\n",
            "monkey\n"
          ]
        }
      ],
      "source": [
        "animals = ['cat', 'dog', 'monkey']\n",
        "for a in animals:\n",
        "    print(a)"
      ]
    },
    {
      "cell_type": "markdown",
      "metadata": {
        "id": "DNbLXKFdBdCC"
      },
      "source": [
        "It is easy to iterate over keys in dictionaries"
      ]
    },
    {
      "cell_type": "code",
      "execution_count": null,
      "metadata": {
        "id": "xnWfEtewNXU5",
        "outputId": "a07a4703-326a-4b0f-9887-e5bbff3043a4"
      },
      "outputs": [
        {
          "name": "stdout",
          "output_type": "stream",
          "text": [
            "Rohan\n"
          ]
        }
      ],
      "source": [
        "a=(1,\"Rohan\")\n",
        "b,c=a\n",
        "print(c)"
      ]
    },
    {
      "cell_type": "code",
      "execution_count": null,
      "metadata": {
        "colab": {
          "base_uri": "https://localhost:8080/"
        },
        "id": "6_lFqAvQBhj0",
        "outputId": "0242e193-6268-443c-8c8d-fda12f669dd3"
      },
      "outputs": [
        {
          "name": "stdout",
          "output_type": "stream",
          "text": [
            "New York\n",
            "Paris\n",
            "Dubai\n",
            "London\n"
          ]
        }
      ],
      "source": [
        "d={1:'New York',2:'Paris',3:'Dubai',4:'London'}\n",
        "for i,city in d.items():\n",
        "  print(d.get(i))\n",
        "  # print(city)"
      ]
    },
    {
      "cell_type": "markdown",
      "metadata": {
        "id": "Kf73WHEagVy7"
      },
      "source": [
        "#### Practice questions:\n",
        "1. Display Fibonacci Series upto 10 terms\n",
        "2. Display numbers at the odd indices of a list"
      ]
    },
    {
      "cell_type": "markdown",
      "metadata": {
        "id": "C4OU5O4QJKQW"
      },
      "source": [
        "## Operations on Objects\n",
        "Everything in python is an object. Strings are objects, lists are objects, dictionaries are objects, arrays are objects, etc.\n",
        "\n",
        "And objects have functions. We use dot '.' to invoke functions. eg-\n",
        "\n",
        "```\n",
        "l = [1,23,5]\n",
        "l.append(10)\n",
        "print(l)\n",
        "```\n",
        "\n",
        "In this section we will go over some common functions that will prove to be very useful in your day to day tasks.\n"
      ]
    },
    {
      "cell_type": "markdown",
      "metadata": {
        "id": "TxilPAKt_8Ys"
      },
      "source": [
        "### Operations on Strings"
      ]
    },
    {
      "cell_type": "code",
      "execution_count": null,
      "metadata": {
        "id": "oFGkcwhskZUe",
        "outputId": "90516e3b-89cb-403d-a8de-f8ba22d1b190"
      },
      "outputs": [
        {
          "name": "stdout",
          "output_type": "stream",
          "text": [
            "This is Data Science Bootcamp Held in Spring'2025\n"
          ]
        }
      ],
      "source": [
        "a = \"This is Data Science Bootcamp\"\n",
        "b = \"Held in Spring'\"+\"2025\"\n",
        "print(a+\" \"+b)\n",
        "\n"
      ]
    },
    {
      "cell_type": "code",
      "execution_count": null,
      "metadata": {
        "id": "mKrW1WfOlhIG",
        "outputId": "f98e8e86-9ecb-42d1-a28e-5c4680c9c9ae"
      },
      "outputs": [
        {
          "name": "stdout",
          "output_type": "stream",
          "text": [
            "1\n",
            "23\n",
            "3\n"
          ]
        }
      ],
      "source": [
        "s = \"12345\"\n",
        "print(s[0])\n",
        "print(s[1:3])\n",
        "print(s[-3])"
      ]
    },
    {
      "cell_type": "code",
      "execution_count": null,
      "metadata": {
        "id": "DGgjuDjhlj4N",
        "outputId": "8342ea53-13f9-4de7-ee5e-af10e7299996"
      },
      "outputs": [
        {
          "ename": "TypeError",
          "evalue": "'str' object does not support item assignment",
          "output_type": "error",
          "traceback": [
            "\u001b[0;31m---------------------------------------------------------------------------\u001b[0m",
            "\u001b[0;31mTypeError\u001b[0m                                 Traceback (most recent call last)",
            "Cell \u001b[0;32mIn[95], line 2\u001b[0m\n\u001b[1;32m      1\u001b[0m \u001b[38;5;66;03m#Predict the output of this code block\u001b[39;00m\n\u001b[0;32m----> 2\u001b[0m \u001b[43ms\u001b[49m\u001b[43m[\u001b[49m\u001b[38;5;241;43m1\u001b[39;49m\u001b[43m]\u001b[49m\u001b[38;5;241m=\u001b[39m\u001b[38;5;124m'\u001b[39m\u001b[38;5;124m5\u001b[39m\u001b[38;5;124m'\u001b[39m\n",
            "\u001b[0;31mTypeError\u001b[0m: 'str' object does not support item assignment"
          ]
        }
      ],
      "source": [
        "#Predict the output of this code block\n",
        "s[1]='5'"
      ]
    },
    {
      "cell_type": "code",
      "execution_count": null,
      "metadata": {
        "id": "usIwEE6H-nUu",
        "outputId": "a5561cc8-ab82-4433-930c-076a3042d32f"
      },
      "outputs": [
        {
          "data": {
            "text/plain": [
              "['1', '2', '3', '4', '5']"
            ]
          },
          "execution_count": 97,
          "metadata": {},
          "output_type": "execute_result"
        }
      ],
      "source": [
        "list(s)\n"
      ]
    },
    {
      "cell_type": "code",
      "execution_count": null,
      "metadata": {
        "id": "6_7V6zqh-4Ve",
        "outputId": "477ed039-696b-4a9b-b050-20a467c7b205"
      },
      "outputs": [
        {
          "data": {
            "text/plain": [
              "['I', 'am', 'part', 'of', 'the', 'Data', 'Science', 'Bootcamp', 'at', 'NYU']"
            ]
          },
          "execution_count": 98,
          "metadata": {},
          "output_type": "execute_result"
        }
      ],
      "source": [
        "TestString = \"I am part of the Data Science Bootcamp at NYU\"\n",
        "TestString.split(\" \")"
      ]
    },
    {
      "cell_type": "code",
      "execution_count": null,
      "metadata": {
        "id": "s_4BKX6s_HSc",
        "outputId": "bb299831-6d88-42c0-df81-b01f88fdfadb"
      },
      "outputs": [
        {
          "data": {
            "text/plain": [
              "'I am part of the Data Science Bootcamp at NYU'"
            ]
          },
          "execution_count": 101,
          "metadata": {},
          "output_type": "execute_result"
        }
      ],
      "source": [
        "l = TestString.split(\" \")\n",
        "\" \".join(l)"
      ]
    },
    {
      "cell_type": "code",
      "execution_count": null,
      "metadata": {
        "id": "mlqzkIy_NXU6",
        "outputId": "c399c433-4222-494e-e6a0-80f4f5aa912b"
      },
      "outputs": [
        {
          "name": "stdout",
          "output_type": "stream",
          "text": [
            "my name is raunak\n"
          ]
        }
      ],
      "source": [
        "s = \"my name is rohan\"\n",
        "z = s.replace(\"rohan\",\"raunak\")\n",
        "print(z)"
      ]
    },
    {
      "cell_type": "markdown",
      "metadata": {
        "id": "qbFpT5uIW2ke"
      },
      "source": [
        "String objects have a bunch of useful methods; for example:*italicized text*"
      ]
    },
    {
      "cell_type": "code",
      "execution_count": null,
      "metadata": {
        "id": "Y_OjRNfFM5hX",
        "outputId": "9f0f4ef1-307a-4127-dbc4-df55411f4c4c"
      },
      "outputs": [
        {
          "name": "stdout",
          "output_type": "stream",
          "text": [
            "Hello\n",
            "HELLO\n",
            "  hello\n",
            " hello \n",
            "he(ell)(ell)o\n"
          ]
        }
      ],
      "source": [
        "s = \"hello\"\n",
        "print(s.capitalize())  # Capitalize a string\n",
        "print(s.upper())       # Convert a string to uppercase; prints \"HELLO\"\n",
        "print(s.rjust(7))      # Right-justify a string, padding with spaces\n",
        "print(s.center(7))     # Center a string, padding with spaces\n",
        "print(s.replace('l', '(ell)'))  # Replace all instances of one substring with another"
      ]
    },
    {
      "cell_type": "markdown",
      "metadata": {
        "id": "tv6C8iWaACNg"
      },
      "source": [
        "### Operations on Lists"
      ]
    },
    {
      "cell_type": "code",
      "execution_count": null,
      "metadata": {
        "id": "zyMvaFJq_bqb",
        "outputId": "483569d4-c0d3-40db-bf6a-103247f9eba0"
      },
      "outputs": [
        {
          "name": "stdout",
          "output_type": "stream",
          "text": [
            "['apple', 'mango', 'banana', 'orange']\n",
            "['apple', 'mango', 'banana', 'orange', 'kiwi']\n",
            "orange\n",
            "----------------\n",
            "['kiwi', 'orange', 'banana', 'mango', 'apple']\n",
            "['apple', 'mango', 'banana', 'orange', 'kiwi', ['apple', 'mango']]\n",
            "----------------\n",
            "2D indexing\n",
            "mango\n"
          ]
        }
      ],
      "source": [
        "l =['apple','mango']\n",
        "m = ['banana', 'orange']\n",
        "lm = l+m\n",
        "print(lm)\n",
        "lm.append('kiwi')\n",
        "print(lm)\n",
        "print(lm[-2])\n",
        "\n",
        "print(\"----------------\")\n",
        "\n",
        "print(lm[::-1]) # Reverse Indexing\n",
        "lm.append(lm[:2])\n",
        "print(lm)\n",
        "print(\"----------------\")\n",
        "print(\"2D indexing\")\n",
        "print(lm[-1][1])"
      ]
    },
    {
      "cell_type": "markdown",
      "metadata": {
        "id": "77Cn0pIIo-C5"
      },
      "source": [
        "### Operations on Dictionaries"
      ]
    },
    {
      "cell_type": "code",
      "execution_count": null,
      "metadata": {
        "id": "Ai4v5R7XAyVr",
        "outputId": "3cc7cdfd-77d9-4678-8968-c270c500a036"
      },
      "outputs": [
        {
          "name": "stdout",
          "output_type": "stream",
          "text": [
            "1\n",
            "3\n",
            "dict_keys(['a', 'b', 'c'])\n",
            "dict_values([1, 2, [3, 4]])\n",
            "dict_items([('a', 1), ('b', 2), ('c', [3, 4])])\n"
          ]
        }
      ],
      "source": [
        "mydict = {\"a\":1, \"b\":2, \"c\":[3,4]}\n",
        "print(mydict['a']) #accessing an element\n",
        "print(len(mydict)) #number of keys in a dictionary\n",
        "print(mydict.keys()) # accessing the keys of the dictionary\n",
        "print(mydict.values()) #iterable over the values of the dictionary\n",
        "print(mydict.items())  #iterable with (key,value) pairs"
      ]
    },
    {
      "cell_type": "markdown",
      "metadata": {
        "id": "4JeAs1WZssRE"
      },
      "source": [
        "### Practice Question"
      ]
    },
    {
      "cell_type": "code",
      "execution_count": null,
      "metadata": {
        "id": "MOSWtcyLsoKr"
      },
      "outputs": [],
      "source": [
        "string = \"\"\"\n",
        "I have provided this text to provide tips on creating interesting paragraphs.\n",
        "First, start with a clear topic sentence that introduces the main idea.\n",
        "Then, support the topic sentence with specific details, examples, and evidence.\n",
        "Vary the sentence length and structure to keep the reader engaged.\n",
        "Finally, end with a strong concluding sentence that summarizes the main points.\n",
        "Remember, practice makes perfect!\n",
        "\"\"\"\n",
        "#Your task is to count the number of different words in this text"
      ]
    },
    {
      "cell_type": "markdown",
      "metadata": {
        "id": "ZCIagPRDviy9"
      },
      "source": [
        "## **Functions in Python**\n",
        "\n",
        "Python functions are defined using the `def` keyword. The general syntax for defining a function is as follows -\n",
        "\n",
        "```\n",
        "def function_name([optional parameters]):\n",
        "  \"\"\"DocString\"\"\"\n",
        "  <body>\n",
        "  return <output>\n",
        "```\n",
        "\n",
        "\n",
        "\n"
      ]
    },
    {
      "cell_type": "code",
      "execution_count": null,
      "metadata": {
        "id": "CBzEkA2Vtsin"
      },
      "outputs": [],
      "source": [
        "# Function for testing if a number is even\n",
        "\n",
        "def test_even_number(number):\n",
        "  return number%2==0    # Returns true if the remainder is 0, else returns false"
      ]
    },
    {
      "cell_type": "code",
      "execution_count": null,
      "metadata": {
        "id": "eD1Nh5Sgw9X_",
        "outputId": "99f58b5e-583f-4d0f-8950-fa4b0bd1772f"
      },
      "outputs": [
        {
          "data": {
            "text/plain": [
              "True"
            ]
          },
          "execution_count": 108,
          "metadata": {},
          "output_type": "execute_result"
        }
      ],
      "source": [
        "test_even_number(12)"
      ]
    },
    {
      "cell_type": "code",
      "execution_count": null,
      "metadata": {
        "colab": {
          "base_uri": "https://localhost:8080/"
        },
        "id": "BDvzeaJE-QsA",
        "outputId": "f4e5a90e-d81f-477c-c5f8-2b47772f8ca4"
      },
      "outputs": [
        {
          "name": "stdout",
          "output_type": "stream",
          "text": [
            "negative\n",
            "zero\n",
            "positive\n"
          ]
        }
      ],
      "source": [
        "def sign(x):\n",
        "  '''Function that returns the sign of a number'''\n",
        "  if x > 0:\n",
        "    return 'positive'\n",
        "  elif x < 0:\n",
        "    return 'negative'\n",
        "  else:\n",
        "    return 'zero'\n",
        "\n",
        "for x in [-1, 0, 1]:\n",
        "    print(sign(x))"
      ]
    },
    {
      "cell_type": "markdown",
      "metadata": {
        "id": "PM6rsoDbx2BU"
      },
      "source": [
        "## Scope of the variables\n",
        "Specifies the region where we have access to the variable.\n",
        "It's very important to understand the scope of variables. It can be -\n",
        "1. Global scope - Variables defined outside and accessible within the functions(\"Visible everywhere\")\n",
        "2. Local scope - variable defined within the function and not accessible outside the function\n"
      ]
    },
    {
      "cell_type": "code",
      "execution_count": null,
      "metadata": {
        "id": "Bz-7CumgxAFS",
        "outputId": "c6a4d20d-e238-49af-97b5-a7fbda15edca"
      },
      "outputs": [
        {
          "name": "stdout",
          "output_type": "stream",
          "text": [
            "Accessing y from within the function  10\n",
            "100\n",
            "10\n"
          ]
        },
        {
          "ename": "NameError",
          "evalue": "name 'tooo' is not defined",
          "output_type": "error",
          "traceback": [
            "\u001b[0;31m---------------------------------------------------------------------------\u001b[0m",
            "\u001b[0;31mNameError\u001b[0m                                 Traceback (most recent call last)",
            "Cell \u001b[0;32mIn[116], line 9\u001b[0m\n\u001b[1;32m      7\u001b[0m \u001b[38;5;28mprint\u001b[39m(f(y))\n\u001b[1;32m      8\u001b[0m \u001b[38;5;28mprint\u001b[39m(y)\n\u001b[0;32m----> 9\u001b[0m \u001b[38;5;28mprint\u001b[39m(\u001b[43mtooo\u001b[49m)\n",
            "\u001b[0;31mNameError\u001b[0m: name 'tooo' is not defined"
          ]
        }
      ],
      "source": [
        "def f(tooo):\n",
        "  tooo=tooo**2\n",
        "  print(\"Accessing y from within the function \",y)\n",
        "  return tooo\n",
        "\n",
        "y = 10\n",
        "print(f(y))\n",
        "print(y)\n",
        "print(tooo)\n"
      ]
    },
    {
      "cell_type": "markdown",
      "metadata": {
        "id": "ezlXaH5e2up_"
      },
      "source": [
        "## Take home exercises\n",
        "\n",
        "1. Write a program that takes a word as an input and print the number of vowels in the word.\n",
        "2. Iterate through the following list of animals and print each one in all caps.\n",
        "\n",
        "  animals=['tiger', 'elephant', 'monkey', 'zebra', 'panther']\n",
        "\n",
        "3. Write a program that iterates from 1 to 20, printing each number and whether it's odd or even.\n",
        "4. Write a program to check if a string is a palindrome or not.\n",
        "5. Write a function *sum_of_integers(a, b)* that takes two integers as input from the user and returns their sum. (optional)\n"
      ]
    },
    {
      "cell_type": "code",
      "source": [
        "# Exercise 1\n",
        "word = input(\"Enter a word: \")\n",
        "vowels = \"aeiouAEIOU\"\n",
        "count = sum(1 for ch in word if ch in vowels)\n",
        "print(\"Number of vowels:\", count)\n"
      ],
      "metadata": {
        "colab": {
          "base_uri": "https://localhost:8080/"
        },
        "id": "Aq0VvkAIPh2S",
        "outputId": "980a5a23-f4f5-4c33-9bba-1c43d8a54c01"
      },
      "execution_count": 16,
      "outputs": [
        {
          "output_type": "stream",
          "name": "stdout",
          "text": [
            "Enter a word: word\n",
            "Number of vowels: 1\n"
          ]
        }
      ]
    },
    {
      "cell_type": "code",
      "source": [
        "# Exercise 2\n",
        "animals = ['tiger', 'elephant', 'monkey', 'zebra', 'panther']\n",
        "\n",
        "for animal in animals:\n",
        "    print(animal.upper())\n"
      ],
      "metadata": {
        "colab": {
          "base_uri": "https://localhost:8080/"
        },
        "id": "XcHZO4-APufh",
        "outputId": "5d734f8f-28ea-475f-ec97-c020af427c12"
      },
      "execution_count": 17,
      "outputs": [
        {
          "output_type": "stream",
          "name": "stdout",
          "text": [
            "TIGER\n",
            "ELEPHANT\n",
            "MONKEY\n",
            "ZEBRA\n",
            "PANTHER\n"
          ]
        }
      ]
    },
    {
      "cell_type": "code",
      "source": [
        "# Exercise 3\n",
        "for i in range(1, 21):\n",
        "    if i % 2 == 0:\n",
        "        print(i, \"is even\")\n",
        "    else:\n",
        "        print(i, \"is odd\")\n"
      ],
      "metadata": {
        "colab": {
          "base_uri": "https://localhost:8080/"
        },
        "id": "_Xf74gs8P1N3",
        "outputId": "c595f87f-cf67-48fb-a0a9-7f77330d64a1"
      },
      "execution_count": 18,
      "outputs": [
        {
          "output_type": "stream",
          "name": "stdout",
          "text": [
            "1 is odd\n",
            "2 is even\n",
            "3 is odd\n",
            "4 is even\n",
            "5 is odd\n",
            "6 is even\n",
            "7 is odd\n",
            "8 is even\n",
            "9 is odd\n",
            "10 is even\n",
            "11 is odd\n",
            "12 is even\n",
            "13 is odd\n",
            "14 is even\n",
            "15 is odd\n",
            "16 is even\n",
            "17 is odd\n",
            "18 is even\n",
            "19 is odd\n",
            "20 is even\n"
          ]
        }
      ]
    },
    {
      "cell_type": "code",
      "source": [
        "# Exercise 4\n",
        "s = input(\"Enter a string: \")\n",
        "if s == s[::-1]:\n",
        "    print(\"Palindrome\")\n",
        "else:\n",
        "    print(\"Not a palindrome\")\n"
      ],
      "metadata": {
        "colab": {
          "base_uri": "https://localhost:8080/"
        },
        "id": "JCMmaC2WP4Qa",
        "outputId": "122c01fe-84ca-427f-f675-d0c569d7438c"
      },
      "execution_count": 19,
      "outputs": [
        {
          "output_type": "stream",
          "name": "stdout",
          "text": [
            "Enter a string: aba\n",
            "Palindrome\n"
          ]
        }
      ]
    },
    {
      "cell_type": "code",
      "source": [
        "# Exercise 5\n",
        "def sum_of_integers(a, b):\n",
        "    return a + b\n",
        "\n",
        "x = int(input(\"Enter first integer: \"))\n",
        "y = int(input(\"Enter second integer: \"))\n",
        "print(\"The sum is:\", sum_of_integers(x, y))\n"
      ],
      "metadata": {
        "colab": {
          "base_uri": "https://localhost:8080/"
        },
        "id": "2uCUHJQgP54V",
        "outputId": "673616d0-76df-45e2-ee17-c648946862e6"
      },
      "execution_count": 20,
      "outputs": [
        {
          "output_type": "stream",
          "name": "stdout",
          "text": [
            "Enter first integer: 1\n",
            "Enter second integer: 2\n",
            "The sum is: 3\n"
          ]
        }
      ]
    },
    {
      "cell_type": "markdown",
      "metadata": {
        "id": "8BtJxyCP7MN2"
      },
      "source": [
        "## Additional Challenge - Books data challenge"
      ]
    },
    {
      "cell_type": "code",
      "execution_count": null,
      "metadata": {
        "id": "7RbAd58HUDOc"
      },
      "outputs": [],
      "source": [
        "books = [\n",
        "    {\n",
        "        \"title\": \"The Great Gatsby\",\n",
        "        \"author\": \"F. Scott Fitzgerald\",\n",
        "        \"genre\": \"Fiction\",\n",
        "        \"rating\": 4.2\n",
        "    },\n",
        "    {\n",
        "        \"title\": \"To Kill a Mockingbird\",\n",
        "        \"author\": \"Harper Lee\",\n",
        "        \"genre\": \"Classic\",\n",
        "        \"rating\": 4.5\n",
        "    },\n",
        "    {\n",
        "        \"title\": \"1984\",\n",
        "        \"author\": \"George Orwell\",\n",
        "        \"genre\": \"Dystopian\",\n",
        "        \"rating\": 4.8\n",
        "    },\n",
        "    {\n",
        "        \"title\": \"Pride and Prejudice\",\n",
        "        \"author\": \"Jane Austen\",\n",
        "        \"genre\": \"Romance\",\n",
        "        \"rating\": 4.7\n",
        "    },\n",
        "    {\n",
        "        \"title\": \"Harry Potter and the Sorcerer's Stone\",\n",
        "        \"author\": \"J.K. Rowling\",\n",
        "        \"genre\": \"Fantasy\",\n",
        "        \"rating\": 4.9\n",
        "    },\n",
        "    {\n",
        "        \"title\": \"The Catcher in the Rye\",\n",
        "        \"author\": \"J.D. Salinger\",\n",
        "        \"genre\": \"Coming-of-age\",\n",
        "        \"rating\": 4.1\n",
        "    }\n",
        "]"
      ]
    },
    {
      "cell_type": "markdown",
      "metadata": {
        "id": "EiR5GmoY7VzW"
      },
      "source": [
        "1. Checking Book Ratings\n",
        "\n",
        "    Write a function `check_rating(book)` that takes a book dictionary and returns True if the rating is greater than 4.5, and False otherwise. Additionally, modify the function to return 'low' if the rating is less than or equal to 4.0, 'medium' if it's greater than 4.0 but less than or equal to 4.5, and 'high' if it's greater than 4.5.\n",
        "\n",
        "2. Average Rating by Genre\n",
        "\n",
        "    Write a function `average_rating_by_genre(books, genre)` that accepts the list of books and a genre, and returns the average rating for that genre. If the genre does not exist in the list, return an appropriate message.\n",
        "\n",
        "3. Books by Author\n",
        "\n",
        "    Write a function `books_by_author(books, author)` that accepts the book list and an author's name, and returns a list of all the books written by that author. If the author does not exist, raise a custom error."
      ]
    }
  ],
  "metadata": {
    "colab": {
      "provenance": [],
      "include_colab_link": true
    },
    "kernelspec": {
      "display_name": "Python 3 (ipykernel)",
      "language": "python",
      "name": "python3"
    },
    "language_info": {
      "codemirror_mode": {
        "name": "ipython",
        "version": 3
      },
      "file_extension": ".py",
      "mimetype": "text/x-python",
      "name": "python",
      "nbconvert_exporter": "python",
      "pygments_lexer": "ipython3",
      "version": "3.13.7"
    }
  },
  "nbformat": 4,
  "nbformat_minor": 0
}